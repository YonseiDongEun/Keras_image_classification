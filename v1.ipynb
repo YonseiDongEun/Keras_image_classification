{
 "cells": [
  {
   "cell_type": "code",
   "execution_count": 1,
   "metadata": {},
   "outputs": [
    {
     "name": "stderr",
     "output_type": "stream",
     "text": [
      "Using TensorFlow backend.\n"
     ]
    }
   ],
   "source": [
    "import numpy as np\n",
    "import pandas as pd\n",
    "import matplotlib.pyplot as plt \n",
    "import os\n",
    "import joblib\n",
    "import tensorflow as tf\n",
    "import keras\n",
    "\n",
    "from keras.layers import Input\n",
    "from keras import backend as K \n",
    "from keras.preprocessing.image import ImageDataGenerator \n",
    "from keras.callbacks import EarlyStopping, ReduceLROnPlateau, ModelCheckpoint\n",
    "from keras import layers, models, optimizers \n",
    "from keras.applications import ResNet50\n",
    "from keras.models import Sequential, Model\n",
    "from keras.utils.vis_utils import plot_model"
   ]
  },
  {
   "cell_type": "code",
   "execution_count": 4,
   "metadata": {},
   "outputs": [],
   "source": [
    "DATA_PATH = '../input/bengaliai-cv19/'\n",
    "TRAIN_DIR = DATA_PATH + 'train_image/'\n",
    "\n",
    "IMAGE_SIZE = 128\n",
    "BATCH_SIZE = 128\n",
    "EPOCHS = 30\n",
    "PATIENT = 5\n",
    "\n",
    "MODEL_PATH = '../model_ckpt/baseline_v1/'\n",
    "MODEL_NAME = 'baseline_v1'\n",
    "label = pd.read_csv(DATA_PATH+'train_label_folds.csv')"
   ]
  },
  {
   "cell_type": "code",
   "execution_count": 5,
   "metadata": {},
   "outputs": [
    {
     "data": {
      "text/html": [
       "<div>\n",
       "<style scoped>\n",
       "    .dataframe tbody tr th:only-of-type {\n",
       "        vertical-align: middle;\n",
       "    }\n",
       "\n",
       "    .dataframe tbody tr th {\n",
       "        vertical-align: top;\n",
       "    }\n",
       "\n",
       "    .dataframe thead th {\n",
       "        text-align: right;\n",
       "    }\n",
       "</style>\n",
       "<table border=\"1\" class=\"dataframe\">\n",
       "  <thead>\n",
       "    <tr style=\"text-align: right;\">\n",
       "      <th></th>\n",
       "      <th>image_id</th>\n",
       "      <th>grapheme_root</th>\n",
       "      <th>vowel_diacritic</th>\n",
       "      <th>consonant_diacritic</th>\n",
       "      <th>grapheme</th>\n",
       "      <th>id</th>\n",
       "      <th>fold</th>\n",
       "    </tr>\n",
       "  </thead>\n",
       "  <tbody>\n",
       "    <tr>\n",
       "      <th>0</th>\n",
       "      <td>Train_0</td>\n",
       "      <td>15</td>\n",
       "      <td>9</td>\n",
       "      <td>5</td>\n",
       "      <td>ক্ট্রো</td>\n",
       "      <td>0</td>\n",
       "      <td>2</td>\n",
       "    </tr>\n",
       "    <tr>\n",
       "      <th>1</th>\n",
       "      <td>Train_1</td>\n",
       "      <td>159</td>\n",
       "      <td>0</td>\n",
       "      <td>0</td>\n",
       "      <td>হ</td>\n",
       "      <td>1</td>\n",
       "      <td>3</td>\n",
       "    </tr>\n",
       "    <tr>\n",
       "      <th>2</th>\n",
       "      <td>Train_2</td>\n",
       "      <td>22</td>\n",
       "      <td>3</td>\n",
       "      <td>5</td>\n",
       "      <td>খ্রী</td>\n",
       "      <td>2</td>\n",
       "      <td>1</td>\n",
       "    </tr>\n",
       "    <tr>\n",
       "      <th>3</th>\n",
       "      <td>Train_3</td>\n",
       "      <td>53</td>\n",
       "      <td>2</td>\n",
       "      <td>2</td>\n",
       "      <td>র্টি</td>\n",
       "      <td>3</td>\n",
       "      <td>4</td>\n",
       "    </tr>\n",
       "    <tr>\n",
       "      <th>4</th>\n",
       "      <td>Train_4</td>\n",
       "      <td>71</td>\n",
       "      <td>9</td>\n",
       "      <td>5</td>\n",
       "      <td>থ্রো</td>\n",
       "      <td>4</td>\n",
       "      <td>2</td>\n",
       "    </tr>\n",
       "  </tbody>\n",
       "</table>\n",
       "</div>"
      ],
      "text/plain": [
       "  image_id  grapheme_root  vowel_diacritic  consonant_diacritic grapheme  id  \\\n",
       "0  Train_0             15                9                    5   ক্ট্রো   0   \n",
       "1  Train_1            159                0                    0        হ   1   \n",
       "2  Train_2             22                3                    5     খ্রী   2   \n",
       "3  Train_3             53                2                    2     র্টি   3   \n",
       "4  Train_4             71                9                    5     থ্রো   4   \n",
       "\n",
       "   fold  \n",
       "0     2  \n",
       "1     3  \n",
       "2     1  \n",
       "3     4  \n",
       "4     2  "
      ]
     },
     "execution_count": 5,
     "metadata": {},
     "output_type": "execute_result"
    }
   ],
   "source": [
    "label.head()"
   ]
  },
  {
   "cell_type": "code",
   "execution_count": 18,
   "metadata": {},
   "outputs": [],
   "source": [
    "def build_model(image_size):\n",
    "    x_in = layers.Input(shape=(image_size, image_size, 1))\n",
    "    x = layers.Conv2D(3, (3,3), padding='same')(x_in)\n",
    "    base_model = ResNet50(input_shape=(image_size, image_size, 3), weights='imagenet', include_top=False)\n",
    "    x = base_model(x)\n",
    "    x = layers.GlobalAveragePooling2D()(x)\n",
    "    x = layers.BatchNormalization()(x)\n",
    "    x = layers.Dropout(0.5)(x)\n",
    "    \n",
    "    out_grapheme = layers.Dense(168, activation='softmax', name='grapheme')(x)\n",
    "    out_vowel = layers.Dense(11, activation='softmax', name='vowel')(x)\n",
    "    out_consonant = layers.Dense(7, activation='softmax', name='consonant')(x)\n",
    "    \n",
    "    model = Model(inputs=x_in, outputs=[out_grapheme, out_vowel, out_consonant])\n",
    "    model.summary()\n",
    "    \n",
    "    optimizer = optimizers.RMSprop(lr=0.0001)\n",
    "# multi output compile\n",
    "    model.compile(optimizer,\n",
    "                  loss={'grapheme': 'sparse_categorical_crossentropy',\n",
    "                        'vowel': 'sparse_categorical_crossentropy',\n",
    "                        'consonant': 'sparse_categorical_crossentropy'},\n",
    "                  loss_weights={'grapheme': 0.5,        ## Set weights\n",
    "                                'vowel': 0.25,\n",
    "                                'consonant': 0.25},\n",
    "                  metrics={'grapheme': 'accuracy',\n",
    "                           'vowel': 'accuracy',\n",
    "                           'consonant': 'accuracy'}\n",
    "                 )\n",
    "\n",
    "    return model"
   ]
  },
  {
   "cell_type": "code",
   "execution_count": 19,
   "metadata": {},
   "outputs": [],
   "source": [
    "def get_callback(model_name, patient):\n",
    "    \n",
    "    ES = EarlyStopping(\n",
    "        monitor='val_loss', \n",
    "        patience=patient, \n",
    "        mode='min', \n",
    "        verbose=1)\n",
    "    \n",
    "    RR = ReduceLROnPlateau(\n",
    "        monitor = 'val_loss', \n",
    "        factor = 0.1, \n",
    "        patience = 2, \n",
    "        min_lr=0.000001, \n",
    "        verbose=1, \n",
    "        mode='min')\n",
    "    \n",
    "    MC = ModelCheckpoint(\n",
    "        filepath=MODEL_PATH+model_name, \n",
    "        monitor='val_loss', \n",
    "        verbose=1, \n",
    "        save_best_only=True, \n",
    "        mode='min')\n",
    "\n",
    "    return [ES, RR, MC]"
   ]
  },
  {
   "cell_type": "code",
   "execution_count": 20,
   "metadata": {},
   "outputs": [
    {
     "name": "stderr",
     "output_type": "stream",
     "text": [
      "/home/dongeun/anaconda3/envs/bengal/lib/python3.6/site-packages/keras_applications/resnet50.py:265: UserWarning: The output shape of `ResNet50(include_top=False)` has been changed since Keras 2.2.0.\n",
      "  warnings.warn('The output shape of `ResNet50(include_top=False)` '\n"
     ]
    },
    {
     "name": "stdout",
     "output_type": "stream",
     "text": [
      "Model: \"model_2\"\n",
      "__________________________________________________________________________________________________\n",
      "Layer (type)                    Output Shape         Param #     Connected to                     \n",
      "==================================================================================================\n",
      "input_3 (InputLayer)            (None, 128, 128, 1)  0                                            \n",
      "__________________________________________________________________________________________________\n",
      "conv2d_2 (Conv2D)               (None, 128, 128, 3)  30          input_3[0][0]                    \n",
      "__________________________________________________________________________________________________\n",
      "resnet50 (Model)                (None, 4, 4, 2048)   23587712    conv2d_2[0][0]                   \n",
      "__________________________________________________________________________________________________\n",
      "global_average_pooling2d_2 (Glo (None, 2048)         0           resnet50[1][0]                   \n",
      "__________________________________________________________________________________________________\n",
      "batch_normalization_2 (BatchNor (None, 2048)         8192        global_average_pooling2d_2[0][0] \n",
      "__________________________________________________________________________________________________\n",
      "dropout_2 (Dropout)             (None, 2048)         0           batch_normalization_2[0][0]      \n",
      "__________________________________________________________________________________________________\n",
      "grapheme (Dense)                (None, 168)          344232      dropout_2[0][0]                  \n",
      "__________________________________________________________________________________________________\n",
      "vowel (Dense)                   (None, 11)           22539       dropout_2[0][0]                  \n",
      "__________________________________________________________________________________________________\n",
      "consonant (Dense)               (None, 7)            14343       dropout_2[0][0]                  \n",
      "==================================================================================================\n",
      "Total params: 23,977,048\n",
      "Trainable params: 23,919,832\n",
      "Non-trainable params: 57,216\n",
      "__________________________________________________________________________________________________\n"
     ]
    }
   ],
   "source": [
    "model = build_model(IMAGE_SIZE);"
   ]
  },
  {
   "cell_type": "code",
   "execution_count": 21,
   "metadata": {
    "scrolled": false
   },
   "outputs": [
    {
     "data": {
      "image/png": "[encoded data removed]",
      "text/plain": [
       "<IPython.core.display.Image object>"
      ]
     },
     "execution_count": 21,
     "metadata": {},
     "output_type": "execute_result"
    }
   ],
   "source": [
    "plot_model(model, to_file='model_plot.png', show_shapes=True, show_layer_names=True)"
   ]
  },
  {
   "cell_type": "code",
   "execution_count": 10,
   "metadata": {},
   "outputs": [],
   "source": [
    "label['grapheme_root'] = label['grapheme_root'].astype(str)\n",
    "label['vowel_diacritic'] = label['vowel_diacritic'].astype(str)\n",
    "label['consonant_diacritic'] = label['consonant_diacritic'].astype(str)"
   ]
  },
  {
   "cell_type": "code",
   "execution_count": 11,
   "metadata": {},
   "outputs": [],
   "source": [
    "#split train_label by fold (5fold)\n",
    "label['id'] = label['id'].apply(lambda x : 'Train_'+str(x)+'.jpg')\n",
    "val_label = label[label['fold']==4]\n",
    "train_label = label[label['fold']!=4]"
   ]
  },
  {
   "cell_type": "code",
   "execution_count": 12,
   "metadata": {},
   "outputs": [
    {
     "name": "stdout",
     "output_type": "stream",
     "text": [
      "[2 3 1 0]\n",
      "[4]\n"
     ]
    }
   ],
   "source": [
    "print(train_label['fold'].unique())\n",
    "print(val_label['fold'].unique())"
   ]
  },
  {
   "cell_type": "code",
   "execution_count": 13,
   "metadata": {},
   "outputs": [
    {
     "data": {
      "text/html": [
       "<div>\n",
       "<style scoped>\n",
       "    .dataframe tbody tr th:only-of-type {\n",
       "        vertical-align: middle;\n",
       "    }\n",
       "\n",
       "    .dataframe tbody tr th {\n",
       "        vertical-align: top;\n",
       "    }\n",
       "\n",
       "    .dataframe thead th {\n",
       "        text-align: right;\n",
       "    }\n",
       "</style>\n",
       "<table border=\"1\" class=\"dataframe\">\n",
       "  <thead>\n",
       "    <tr style=\"text-align: right;\">\n",
       "      <th></th>\n",
       "      <th>image_id</th>\n",
       "      <th>grapheme_root</th>\n",
       "      <th>vowel_diacritic</th>\n",
       "      <th>consonant_diacritic</th>\n",
       "      <th>grapheme</th>\n",
       "      <th>id</th>\n",
       "      <th>fold</th>\n",
       "    </tr>\n",
       "  </thead>\n",
       "  <tbody>\n",
       "    <tr>\n",
       "      <th>0</th>\n",
       "      <td>Train_0</td>\n",
       "      <td>15</td>\n",
       "      <td>9</td>\n",
       "      <td>5</td>\n",
       "      <td>ক্ট্রো</td>\n",
       "      <td>Train_0.jpg</td>\n",
       "      <td>2</td>\n",
       "    </tr>\n",
       "    <tr>\n",
       "      <th>1</th>\n",
       "      <td>Train_1</td>\n",
       "      <td>159</td>\n",
       "      <td>0</td>\n",
       "      <td>0</td>\n",
       "      <td>হ</td>\n",
       "      <td>Train_1.jpg</td>\n",
       "      <td>3</td>\n",
       "    </tr>\n",
       "    <tr>\n",
       "      <th>2</th>\n",
       "      <td>Train_2</td>\n",
       "      <td>22</td>\n",
       "      <td>3</td>\n",
       "      <td>5</td>\n",
       "      <td>খ্রী</td>\n",
       "      <td>Train_2.jpg</td>\n",
       "      <td>1</td>\n",
       "    </tr>\n",
       "    <tr>\n",
       "      <th>4</th>\n",
       "      <td>Train_4</td>\n",
       "      <td>71</td>\n",
       "      <td>9</td>\n",
       "      <td>5</td>\n",
       "      <td>থ্রো</td>\n",
       "      <td>Train_4.jpg</td>\n",
       "      <td>2</td>\n",
       "    </tr>\n",
       "    <tr>\n",
       "      <th>6</th>\n",
       "      <td>Train_6</td>\n",
       "      <td>52</td>\n",
       "      <td>2</td>\n",
       "      <td>0</td>\n",
       "      <td>ঞ্জি</td>\n",
       "      <td>Train_6.jpg</td>\n",
       "      <td>2</td>\n",
       "    </tr>\n",
       "  </tbody>\n",
       "</table>\n",
       "</div>"
      ],
      "text/plain": [
       "  image_id grapheme_root vowel_diacritic consonant_diacritic grapheme  \\\n",
       "0  Train_0            15               9                   5   ক্ট্রো   \n",
       "1  Train_1           159               0                   0        হ   \n",
       "2  Train_2            22               3                   5     খ্রী   \n",
       "4  Train_4            71               9                   5     থ্রো   \n",
       "6  Train_6            52               2                   0     ঞ্জি   \n",
       "\n",
       "            id  fold  \n",
       "0  Train_0.jpg     2  \n",
       "1  Train_1.jpg     3  \n",
       "2  Train_2.jpg     1  \n",
       "4  Train_4.jpg     2  \n",
       "6  Train_6.jpg     2  "
      ]
     },
     "execution_count": 13,
     "metadata": {},
     "output_type": "execute_result"
    }
   ],
   "source": [
    "train_label.head()"
   ]
  },
  {
   "cell_type": "code",
   "execution_count": 14,
   "metadata": {},
   "outputs": [
    {
     "data": {
      "text/plain": [
       "'../input/bengaliai-cv19/train_image/'"
      ]
     },
     "execution_count": 14,
     "metadata": {},
     "output_type": "execute_result"
    }
   ],
   "source": [
    "TRAIN_DIR"
   ]
  },
  {
   "cell_type": "code",
   "execution_count": 15,
   "metadata": {},
   "outputs": [],
   "source": [
    "train_datagen = ImageDataGenerator(\n",
    "    rescale = 1./255)\n",
    "\n",
    "valid_datagen = ImageDataGenerator(rescale = 1./255)\n",
    "test_datagen = ImageDataGenerator(rescale = 1./255)"
   ]
  },
  {
   "cell_type": "code",
   "execution_count": 16,
   "metadata": {
    "scrolled": true
   },
   "outputs": [
    {
     "name": "stdout",
     "output_type": "stream",
     "text": [
      "Found 40187 validated image filenames.\n",
      "Found 10023 validated image filenames.\n"
     ]
    },
    {
     "name": "stderr",
     "output_type": "stream",
     "text": [
      "/home/dongeun/anaconda3/envs/bengal/lib/python3.6/site-packages/keras_preprocessing/image/dataframe_iterator.py:273: UserWarning: Found 120485 invalid image filename(s) in x_col=\"id\". These filename(s) will be ignored.\n",
      "  .format(n_invalid, x_col)\n",
      "/home/dongeun/anaconda3/envs/bengal/lib/python3.6/site-packages/keras_preprocessing/image/dataframe_iterator.py:273: UserWarning: Found 30145 invalid image filename(s) in x_col=\"id\". These filename(s) will be ignored.\n",
      "  .format(n_invalid, x_col)\n"
     ]
    }
   ],
   "source": [
    "train_generator = train_datagen.flow_from_dataframe(\n",
    "            dataframe=train_label,\n",
    "            directory=TRAIN_DIR,\n",
    "            x_col='id',\n",
    "            y_col=['grapheme_root','vowel_diacritic','consonant_diacritic'],\n",
    "            target_size= (IMAGE_SIZE, IMAGE_SIZE),\n",
    "            color_mode='grayscale',\n",
    "            class_mode='multi_output',\n",
    "            batch_size=BATCH_SIZE,\n",
    "            seed=42\n",
    "            )\n",
    "\n",
    "valid_generator = valid_datagen.flow_from_dataframe(\n",
    "    dataframe=val_label,\n",
    "    directory=TRAIN_DIR,\n",
    "    x_col='id',\n",
    "    y_col=['grapheme_root','vowel_diacritic','consonant_diacritic'],\n",
    "    target_size= (IMAGE_SIZE, IMAGE_SIZE),\n",
    "    color_mode='grayscale',\n",
    "    class_mode='multi_output',\n",
    "    batch_size=BATCH_SIZE,\n",
    "    seed=42\n",
    "    )"
   ]
  },
  {
   "cell_type": "code",
   "execution_count": 22,
   "metadata": {},
   "outputs": [
    {
     "name": "stdout",
     "output_type": "stream",
     "text": [
      "Epoch 1/30\n",
      "1256/1255 [==============================] - 297s 236ms/step - loss: 0.9278 - grapheme_loss: 1.4563 - vowel_loss: 0.4264 - consonant_loss: 0.3723 - grapheme_accuracy: 0.6688 - vowel_accuracy: 0.8707 - consonant_accuracy: 0.8917 - val_loss: 0.4866 - val_grapheme_loss: 0.8124 - val_vowel_loss: 0.1906 - val_consonant_loss: 0.2031 - val_grapheme_accuracy: 0.7905 - val_vowel_accuracy: 0.9465 - val_consonant_accuracy: 0.9518\n",
      "\n",
      "Epoch 00001: val_loss improved from inf to 0.48656, saving model to ../model_ckpt/baseline_v1/baseline_v1\n",
      "Epoch 2/30\n",
      "1256/1255 [==============================] - 289s 230ms/step - loss: 0.0942 - grapheme_loss: 0.1330 - vowel_loss: 0.0576 - consonant_loss: 0.0531 - grapheme_accuracy: 0.9593 - vowel_accuracy: 0.9823 - consonant_accuracy: 0.9844 - val_loss: 0.4157 - val_grapheme_loss: 0.6881 - val_vowel_loss: 0.1822 - val_consonant_loss: 0.1923 - val_grapheme_accuracy: 0.8453 - val_vowel_accuracy: 0.9571 - val_consonant_accuracy: 0.9617\n",
      "\n",
      "Epoch 00002: val_loss improved from 0.48656 to 0.41574, saving model to ../model_ckpt/baseline_v1/baseline_v1\n",
      "Epoch 3/30\n",
      "1256/1255 [==============================] - 288s 229ms/step - loss: 0.0408 - grapheme_loss: 0.0559 - vowel_loss: 0.0255 - consonant_loss: 0.0260 - grapheme_accuracy: 0.9829 - vowel_accuracy: 0.9919 - consonant_accuracy: 0.9923 - val_loss: 0.5650 - val_grapheme_loss: 0.7315 - val_vowel_loss: 0.2002 - val_consonant_loss: 0.2363 - val_grapheme_accuracy: 0.8487 - val_vowel_accuracy: 0.9566 - val_consonant_accuracy: 0.9563\n",
      "\n",
      "Epoch 00003: val_loss did not improve from 0.41574\n",
      "Epoch 4/30\n",
      "1256/1255 [==============================] - 288s 229ms/step - loss: 0.0274 - grapheme_loss: 0.0380 - vowel_loss: 0.0173 - consonant_loss: 0.0162 - grapheme_accuracy: 0.9885 - vowel_accuracy: 0.9944 - consonant_accuracy: 0.9948 - val_loss: 0.6222 - val_grapheme_loss: 0.6986 - val_vowel_loss: 0.1871 - val_consonant_loss: 0.2476 - val_grapheme_accuracy: 0.8684 - val_vowel_accuracy: 0.9632 - val_consonant_accuracy: 0.9624\n",
      "\n",
      "Epoch 00004: ReduceLROnPlateau reducing learning rate to 9.999999747378752e-06.\n",
      "\n",
      "Epoch 00004: val_loss did not improve from 0.41574\n",
      "Epoch 5/30\n",
      "1256/1255 [==============================] - 288s 230ms/step - loss: 0.0035 - grapheme_loss: 0.0041 - vowel_loss: 0.0030 - consonant_loss: 0.0029 - grapheme_accuracy: 0.9990 - vowel_accuracy: 0.9992 - consonant_accuracy: 0.9992 - val_loss: 0.3092 - val_grapheme_loss: 0.4994 - val_vowel_loss: 0.1423 - val_consonant_loss: 0.2028 - val_grapheme_accuracy: 0.9039 - val_vowel_accuracy: 0.9763 - val_consonant_accuracy: 0.9722\n",
      "\n",
      "Epoch 00005: val_loss improved from 0.41574 to 0.30920, saving model to ../model_ckpt/baseline_v1/baseline_v1\n",
      "Epoch 6/30\n",
      "1256/1255 [==============================] - 288s 229ms/step - loss: 5.1325e-04 - grapheme_loss: 5.3259e-04 - vowel_loss: 5.3043e-04 - consonant_loss: 4.5739e-04 - grapheme_accuracy: 1.0000 - vowel_accuracy: 0.9999 - consonant_accuracy: 0.9999 - val_loss: 0.2845 - val_grapheme_loss: 0.4865 - val_vowel_loss: 0.1496 - val_consonant_loss: 0.2135 - val_grapheme_accuracy: 0.9049 - val_vowel_accuracy: 0.9755 - val_consonant_accuracy: 0.9714\n",
      "\n",
      "Epoch 00006: val_loss improved from 0.30920 to 0.28449, saving model to ../model_ckpt/baseline_v1/baseline_v1\n",
      "Epoch 7/30\n",
      "1256/1255 [==============================] - 288s 230ms/step - loss: 2.0064e-04 - grapheme_loss: 1.9022e-04 - vowel_loss: 2.2460e-04 - consonant_loss: 1.9752e-04 - grapheme_accuracy: 1.0000 - vowel_accuracy: 1.0000 - consonant_accuracy: 1.0000 - val_loss: 0.1595 - val_grapheme_loss: 0.5197 - val_vowel_loss: 0.1574 - val_consonant_loss: 0.2313 - val_grapheme_accuracy: 0.9067 - val_vowel_accuracy: 0.9759 - val_consonant_accuracy: 0.9715\n",
      "\n",
      "Epoch 00007: val_loss improved from 0.28449 to 0.15952, saving model to ../model_ckpt/baseline_v1/baseline_v1\n",
      "Epoch 8/30\n",
      "1256/1255 [==============================] - 288s 230ms/step - loss: 8.7254e-05 - grapheme_loss: 8.9584e-05 - vowel_loss: 8.6596e-05 - consonant_loss: 8.3253e-05 - grapheme_accuracy: 1.0000 - vowel_accuracy: 1.0000 - consonant_accuracy: 1.0000 - val_loss: 0.4263 - val_grapheme_loss: 0.5358 - val_vowel_loss: 0.1595 - val_consonant_loss: 0.2342 - val_grapheme_accuracy: 0.9049 - val_vowel_accuracy: 0.9758 - val_consonant_accuracy: 0.9723\n",
      "\n",
      "Epoch 00008: val_loss did not improve from 0.15952\n",
      "Epoch 9/30\n",
      "1256/1255 [==============================] - 290s 231ms/step - loss: 4.9855e-05 - grapheme_loss: 4.1659e-05 - vowel_loss: 6.3796e-05 - consonant_loss: 5.2307e-05 - grapheme_accuracy: 1.0000 - vowel_accuracy: 1.0000 - consonant_accuracy: 1.0000 - val_loss: 0.3258 - val_grapheme_loss: 0.5567 - val_vowel_loss: 0.1691 - val_consonant_loss: 0.2519 - val_grapheme_accuracy: 0.9071 - val_vowel_accuracy: 0.9769 - val_consonant_accuracy: 0.9731\n",
      "\n",
      "Epoch 00009: ReduceLROnPlateau reducing learning rate to 1e-06.\n",
      "\n",
      "Epoch 00009: val_loss did not improve from 0.15952\n",
      "Epoch 10/30\n",
      "1256/1255 [==============================] - 289s 230ms/step - loss: 2.4598e-05 - grapheme_loss: 2.5999e-05 - vowel_loss: 2.7577e-05 - consonant_loss: 1.8816e-05 - grapheme_accuracy: 1.0000 - vowel_accuracy: 1.0000 - consonant_accuracy: 1.0000 - val_loss: 0.3356 - val_grapheme_loss: 0.5564 - val_vowel_loss: 0.1695 - val_consonant_loss: 0.2611 - val_grapheme_accuracy: 0.9074 - val_vowel_accuracy: 0.9766 - val_consonant_accuracy: 0.9727\n",
      "\n",
      "Epoch 00010: val_loss did not improve from 0.15952\n",
      "Epoch 11/30\n",
      "1256/1255 [==============================] - 289s 230ms/step - loss: 2.2096e-05 - grapheme_loss: 2.1832e-05 - vowel_loss: 2.6494e-05 - consonant_loss: 1.8226e-05 - grapheme_accuracy: 1.0000 - vowel_accuracy: 1.0000 - consonant_accuracy: 1.0000 - val_loss: 0.5461 - val_grapheme_loss: 0.5610 - val_vowel_loss: 0.1707 - val_consonant_loss: 0.2529 - val_grapheme_accuracy: 0.9078 - val_vowel_accuracy: 0.9771 - val_consonant_accuracy: 0.9733\n",
      "\n",
      "Epoch 00011: val_loss did not improve from 0.15952\n",
      "Epoch 12/30\n",
      "1256/1255 [==============================] - 289s 230ms/step - loss: 2.1575e-05 - grapheme_loss: 1.9959e-05 - vowel_loss: 2.5122e-05 - consonant_loss: 2.1262e-05 - grapheme_accuracy: 1.0000 - vowel_accuracy: 1.0000 - consonant_accuracy: 1.0000 - val_loss: 0.3469 - val_grapheme_loss: 0.5666 - val_vowel_loss: 0.1666 - val_consonant_loss: 0.2655 - val_grapheme_accuracy: 0.9076 - val_vowel_accuracy: 0.9765 - val_consonant_accuracy: 0.9727\n",
      "\n",
      "Epoch 00012: val_loss did not improve from 0.15952\n",
      "Epoch 00012: early stopping\n"
     ]
    }
   ],
   "source": [
    "history = model.fit_generator(\n",
    "    train_generator,\n",
    "    steps_per_epoch=len(train_label.index) / BATCH_SIZE,\n",
    "    epochs= EPOCHS,\n",
    "    validation_data= valid_generator,\n",
    "    validation_steps=len(val_label.index) / BATCH_SIZE,\n",
    "    callbacks = get_callback(MODEL_NAME, PATIENT),\n",
    "    verbose=1)"
   ]
  },
  {
   "cell_type": "code",
   "execution_count": null,
   "metadata": {},
   "outputs": [],
   "source": []
  }
 ],
 "metadata": {
  "kernelspec": {
   "display_name": "Python 3",
   "language": "python",
   "name": "python3"
  },
  "language_info": {
   "codemirror_mode": {
    "name": "ipython",
    "version": 3
   },
   "file_extension": ".py",
   "mimetype": "text/x-python",
   "name": "python",
   "nbconvert_exporter": "python",
   "pygments_lexer": "ipython3",
   "version": "3.7.3"
  }
 },
 "nbformat": 4,
 "nbformat_minor": 4
}
